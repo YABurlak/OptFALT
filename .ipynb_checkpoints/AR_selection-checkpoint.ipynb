{
 "cells": [
  {
   "cell_type": "code",
   "execution_count": 95,
   "id": "1437ecb5-2b37-4c1f-916a-5fe28edda8da",
   "metadata": {},
   "outputs": [],
   "source": [
    "import os\n",
    "import numpy as np\n",
    "import pandas as pd\n",
    "import matplotlib.pyplot as plt\n",
    "from aerolib import *\n",
    "%config IPCompleter.greedy=True"
   ]
  },
  {
   "cell_type": "code",
   "execution_count": 93,
   "id": "94c1e45c-c5cf-40f1-a8f5-6ae444c49281",
   "metadata": {},
   "outputs": [],
   "source": [
    "df = pd.read_csv(\"SETTINGS.csv\", sep = ',')\n",
    "settings1 = dict(zip(df['NAME'], df['VALUE']))"
   ]
  },
  {
   "cell_type": "code",
   "execution_count": 87,
   "id": "da8ee001-c7ac-4f95-888b-0b699ecb30cf",
   "metadata": {},
   "outputs": [],
   "source": [
    "df = pd.read_csv(\"GEOM.csv\", sep = ',')\n",
    "geom1 = dict(zip(df['NAME'], df['VALUE']))"
   ]
  },
  {
   "cell_type": "code",
   "execution_count": 90,
   "id": "41e2b680-c1fa-4c03-aef6-761dc364ac9e",
   "metadata": {},
   "outputs": [],
   "source": [
    "df = pd.read_csv(\"PERFORMANCE.csv\", sep = ',')\n",
    "performance1 = dict(zip(df['NAME'], df['VALUE']))"
   ]
  },
  {
   "cell_type": "code",
   "execution_count": 50,
   "id": "f85576d3-63df-4933-a1c3-f209d914f1c7",
   "metadata": {},
   "outputs": [],
   "source": [
    "tom = 0.8"
   ]
  },
  {
   "cell_type": "code",
   "execution_count": 106,
   "id": "d91f9e93-986d-4cf0-818c-d3996ffcd812",
   "metadata": {},
   "outputs": [],
   "source": [
    "#FIXME вынести в либу\n",
    "def XFoil_command_CL(V, AR, Sw, m, nu, M, ncr, it, XFoil_path, work_path, foil_name):\n",
    "    command_file=open(work_path + 'commands.in','w')\n",
    "    command_file.write('load ' + work_path + foil_name + '.dat'+'\\n'\\\n",
    "    + foil_name + '\\n\\\n",
    "    panel\\n\\\n",
    "    oper\\n\\\n",
    "    visc ' + str(Re(V, ba(AR, Sw), nu)) + '\\n\\\n",
    "    M ' + str(M) + '\\n\\\n",
    "    type 1\\n\\\n",
    "    vpar\\n\\\n",
    "    n ' + str(ncr) + '\\n\\\n",
    "    \\n\\\n",
    "    iter\\n' + str(it) + '\\n\\\n",
    "    pacc\\n'\\\n",
    "    + work_path + 'polar.dat\\n\\\n",
    "    \\n\\\n",
    "    cl ' + str(CL_required(V, Sw, m)) +'\\n\\\n",
    "    \\n\\\n",
    "    \\n\\\n",
    "    quit\\n')\n",
    "    print(str(Re(V, ba(AR, Sw), nu)))\n",
    "    command_file.close()\n",
    "    return 0\n",
    "\n",
    "def XFoil_run(file_path, xfoil_path):\n",
    "    sep=os.path.sep\n",
    "    run_xfoil_command = xfoil_path + 'xfoil < ' + file_path + \\\n",
    "    'commands.in'\n",
    "    os.system(run_xfoil_command)\n",
    "    return 0\n",
    "\n",
    "def XFoil_read(file_path):\n",
    "    aero_data_file = open(file_path + 'polar.dat', 'r')\n",
    "    last_line = aero_data_file.readlines()[-1].split()\n",
    "    aero_data_file.close()\n",
    "    os.system('del ' + file_path + 'polar.dat')\n",
    "    alpha, cl, cd = float(last_line[0]), float(last_line[1]), float(last_line[2])\n",
    "    return [alpha, cl, cd]\n",
    "\n",
    "def K_V_solver(geom, settings, v, ar, tom):\n",
    "    polar = np.array([])\n",
    "    XFoil_command_CL(V=v, AR=ar, it=int(settings[\"it\"]), M=float(settings[\"M\"]), m=tom, nu = float(settings[\"dyn_viscosity\"]), ncr=int(settings[\"ncr\"]), Sw=float(geom[\"wing_area\"]), work_path=str(settings[\"work_dir\"]), XFoil_path=str(settings[\"XFoil_path\"]), foil_name=str(settings[\"foil1_name\"]))\n",
    "    XFoil_run(file_path=settings[\"work_dir\"], xfoil_path=settings[\"XFoil_path\"])\n",
    "    polar = np.append(polar, [[XFoil_read(file_path = settings[\"work_dir\"])]])\n",
    "    polar = polar.reshape(polar.size // 3, 3)\n",
    "    POLAR = pd.DataFrame(polar, columns = ['alpha', 'CL', 'CD'])\n",
    "    POLAR.insert(0, \"AR\", ar)\n",
    "    POLAR.insert(1, \"V\", v)\n",
    "    POLAR.insert(4, \"CDi\", CDi(POLAR.CL, ar, osvald_coef = float(settings[\"osvald_coef\"])))\n",
    "    POLAR.insert(5, \"K\", POLAR.CL / (POLAR.CD + POLAR.CDi))\n",
    "    return POLAR\n",
    "\n",
    "def AR_selector(ar_range, geom, settings, performance, tom):\n",
    "    df = pd.DataFrame()\n",
    "    for ar in ar_range:\n",
    "        p = K_V_solver(geom, settings, float(performance['cruise_speed']), ar, tom)\n",
    "        df = pd.concat([df, p], ignore_index=True, sort=False)\n",
    "    return df.iloc[a.K.argmax()].AR    "
   ]
  },
  {
   "cell_type": "code",
   "execution_count": 60,
   "id": "e41ddcb5-7fc6-46f7-a25b-5a566520b8c4",
   "metadata": {},
   "outputs": [
    {
     "name": "stdout",
     "output_type": "stream",
     "text": [
      "67253\n"
     ]
    },
    {
     "data": {
      "text/plain": [
       "0"
      ]
     },
     "execution_count": 60,
     "metadata": {},
     "output_type": "execute_result"
    }
   ],
   "source": [
    "XFoil_command_CL(V = 7., AR=6.5, it=1000, M=0.0, m=tom,  ncr=9, nu=float(settings1[\"dyn_viscosity\"]), Sw=float(geom1[\"wing_area\"]), work_path=settings1[\"work_dir\"], XFoil_path=settings1[\"XFoil_path\"],  foil_name=settings1[\"foil1_name\"]  )\n",
    "XFoil_run(file_path=settings1[\"work_dir\"], xfoil_path=settings1[\"XFoil_path\"])"
   ]
  },
  {
   "cell_type": "code",
   "execution_count": 105,
   "id": "e8560657-9f84-4732-b4c7-c557eb8865cf",
   "metadata": {},
   "outputs": [],
   "source": [
    "def AR_selector(ar_range, geom, settings, performance, tom):\n",
    "    df = pd.DataFrame()\n",
    "    for ar in ar_range:\n",
    "        p = K_V_solver(geom, settings, float(performance['cruise_speed']), ar, tom)\n",
    "        df = pd.concat([df, p], ignore_index=True, sort=False)\n",
    "    return df.iloc[a.K.argmax()].AR    "
   ]
  },
  {
   "cell_type": "code",
   "execution_count": 101,
   "id": "1a58b5c8-a5d8-413f-ad7b-829cd9a31986",
   "metadata": {},
   "outputs": [
    {
     "name": "stdout",
     "output_type": "stream",
     "text": [
      "188561\n",
      "172132\n",
      "159363\n",
      "149071\n",
      "140545\n",
      "133333\n",
      "127128\n",
      "121716\n",
      "116941\n",
      "112687\n"
     ]
    },
    {
     "data": {
      "text/html": [
       "<div>\n",
       "<style scoped>\n",
       "    .dataframe tbody tr th:only-of-type {\n",
       "        vertical-align: middle;\n",
       "    }\n",
       "\n",
       "    .dataframe tbody tr th {\n",
       "        vertical-align: top;\n",
       "    }\n",
       "\n",
       "    .dataframe thead th {\n",
       "        text-align: right;\n",
       "    }\n",
       "</style>\n",
       "<table border=\"1\" class=\"dataframe\">\n",
       "  <thead>\n",
       "    <tr style=\"text-align: right;\">\n",
       "      <th></th>\n",
       "      <th>AR</th>\n",
       "      <th>V</th>\n",
       "      <th>alpha</th>\n",
       "      <th>CL</th>\n",
       "      <th>CDi</th>\n",
       "      <th>K</th>\n",
       "      <th>CD</th>\n",
       "    </tr>\n",
       "  </thead>\n",
       "  <tbody>\n",
       "    <tr>\n",
       "      <th>0</th>\n",
       "      <td>5.0</td>\n",
       "      <td>20.0</td>\n",
       "      <td>-0.553</td>\n",
       "      <td>0.3216</td>\n",
       "      <td>0.006931</td>\n",
       "      <td>18.938944</td>\n",
       "      <td>0.01005</td>\n",
       "    </tr>\n",
       "    <tr>\n",
       "      <th>1</th>\n",
       "      <td>6.0</td>\n",
       "      <td>20.0</td>\n",
       "      <td>-0.484</td>\n",
       "      <td>0.3216</td>\n",
       "      <td>0.005776</td>\n",
       "      <td>19.390155</td>\n",
       "      <td>0.01081</td>\n",
       "    </tr>\n",
       "    <tr>\n",
       "      <th>2</th>\n",
       "      <td>7.0</td>\n",
       "      <td>20.0</td>\n",
       "      <td>-0.419</td>\n",
       "      <td>0.3216</td>\n",
       "      <td>0.004951</td>\n",
       "      <td>19.549402</td>\n",
       "      <td>0.01150</td>\n",
       "    </tr>\n",
       "    <tr>\n",
       "      <th>3</th>\n",
       "      <td>8.0</td>\n",
       "      <td>20.0</td>\n",
       "      <td>-0.385</td>\n",
       "      <td>0.3216</td>\n",
       "      <td>0.004332</td>\n",
       "      <td>19.571803</td>\n",
       "      <td>0.01210</td>\n",
       "    </tr>\n",
       "    <tr>\n",
       "      <th>4</th>\n",
       "      <td>9.0</td>\n",
       "      <td>20.0</td>\n",
       "      <td>-0.313</td>\n",
       "      <td>0.3216</td>\n",
       "      <td>0.003850</td>\n",
       "      <td>19.443196</td>\n",
       "      <td>0.01269</td>\n",
       "    </tr>\n",
       "    <tr>\n",
       "      <th>5</th>\n",
       "      <td>10.0</td>\n",
       "      <td>20.0</td>\n",
       "      <td>-0.245</td>\n",
       "      <td>0.3216</td>\n",
       "      <td>0.003465</td>\n",
       "      <td>19.239695</td>\n",
       "      <td>0.01325</td>\n",
       "    </tr>\n",
       "    <tr>\n",
       "      <th>6</th>\n",
       "      <td>11.0</td>\n",
       "      <td>20.0</td>\n",
       "      <td>-0.181</td>\n",
       "      <td>0.3216</td>\n",
       "      <td>0.003150</td>\n",
       "      <td>19.006641</td>\n",
       "      <td>0.01377</td>\n",
       "    </tr>\n",
       "    <tr>\n",
       "      <th>7</th>\n",
       "      <td>12.0</td>\n",
       "      <td>20.0</td>\n",
       "      <td>-0.119</td>\n",
       "      <td>0.3216</td>\n",
       "      <td>0.002888</td>\n",
       "      <td>18.754518</td>\n",
       "      <td>0.01426</td>\n",
       "    </tr>\n",
       "    <tr>\n",
       "      <th>8</th>\n",
       "      <td>13.0</td>\n",
       "      <td>20.0</td>\n",
       "      <td>-0.059</td>\n",
       "      <td>0.3216</td>\n",
       "      <td>0.002666</td>\n",
       "      <td>18.487301</td>\n",
       "      <td>0.01473</td>\n",
       "    </tr>\n",
       "    <tr>\n",
       "      <th>9</th>\n",
       "      <td>14.0</td>\n",
       "      <td>20.0</td>\n",
       "      <td>-0.002</td>\n",
       "      <td>0.3216</td>\n",
       "      <td>0.002475</td>\n",
       "      <td>18.215477</td>\n",
       "      <td>0.01518</td>\n",
       "    </tr>\n",
       "  </tbody>\n",
       "</table>\n",
       "</div>"
      ],
      "text/plain": [
       "     AR     V  alpha      CL       CDi          K       CD\n",
       "0   5.0  20.0 -0.553  0.3216  0.006931  18.938944  0.01005\n",
       "1   6.0  20.0 -0.484  0.3216  0.005776  19.390155  0.01081\n",
       "2   7.0  20.0 -0.419  0.3216  0.004951  19.549402  0.01150\n",
       "3   8.0  20.0 -0.385  0.3216  0.004332  19.571803  0.01210\n",
       "4   9.0  20.0 -0.313  0.3216  0.003850  19.443196  0.01269\n",
       "5  10.0  20.0 -0.245  0.3216  0.003465  19.239695  0.01325\n",
       "6  11.0  20.0 -0.181  0.3216  0.003150  19.006641  0.01377\n",
       "7  12.0  20.0 -0.119  0.3216  0.002888  18.754518  0.01426\n",
       "8  13.0  20.0 -0.059  0.3216  0.002666  18.487301  0.01473\n",
       "9  14.0  20.0 -0.002  0.3216  0.002475  18.215477  0.01518"
      ]
     },
     "execution_count": 101,
     "metadata": {},
     "output_type": "execute_result"
    }
   ],
   "source": [
    "ar_array = np.linspace(5., 14., 10)\n",
    "a = AR_selector(ar_array, geom1, settings1, performance1, 0.8)\n",
    "a"
   ]
  },
  {
   "cell_type": "code",
   "execution_count": 104,
   "id": "229163ee-cf1f-42f2-88c8-c5d7f10fae95",
   "metadata": {},
   "outputs": [
    {
     "data": {
      "text/plain": [
       "8.0"
      ]
     },
     "execution_count": 104,
     "metadata": {},
     "output_type": "execute_result"
    }
   ],
   "source": [
    "n = a.K.argmax()\n",
    "a.iloc[a.K.argmax()].AR"
   ]
  },
  {
   "cell_type": "code",
   "execution_count": null,
   "id": "06882288-72fe-4133-9f17-e63dc87a59c5",
   "metadata": {},
   "outputs": [],
   "source": [
    "aero_data_file = open(settings1['work_dir'] + 'polar.dat', 'r')\n",
    "lines = aero_data_file.readlines()\n",
    "last_line = lines[-1].split()\n",
    "aero_data_file.close()\n",
    "last_line[0]"
   ]
  },
  {
   "cell_type": "code",
   "execution_count": null,
   "id": "fba70ebe-0c3b-4f9c-806a-4edd3b098567",
   "metadata": {},
   "outputs": [],
   "source": [
    "df"
   ]
  }
 ],
 "metadata": {
  "kernelspec": {
   "display_name": "Python 3 (ipykernel)",
   "language": "python",
   "name": "python3"
  },
  "language_info": {
   "codemirror_mode": {
    "name": "ipython",
    "version": 3
   },
   "file_extension": ".py",
   "mimetype": "text/x-python",
   "name": "python",
   "nbconvert_exporter": "python",
   "pygments_lexer": "ipython3",
   "version": "3.8.10"
  }
 },
 "nbformat": 4,
 "nbformat_minor": 5
}
