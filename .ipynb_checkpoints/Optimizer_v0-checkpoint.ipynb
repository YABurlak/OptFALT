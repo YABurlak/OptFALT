{
 "cells": [
  {
   "cell_type": "code",
   "execution_count": 2,
   "id": "36313947-eebf-477e-b2b6-6d0c7d0b83c5",
   "metadata": {},
   "outputs": [],
   "source": [
    "from inner_iteration import inner_iteration\n",
    "#m = inner_iteration()\n"
   ]
  },
  {
   "cell_type": "code",
   "execution_count": 3,
   "id": "a5f14966-4a94-4287-a49d-9c26468c8e0e",
   "metadata": {},
   "outputs": [],
   "source": [
    "from aerolib import *\n",
    "from xfoillib import *\n",
    "from exceptions import *\n",
    "from inner_iteration import *\n",
    "\n",
    "#m = inner_iteration()"
   ]
  },
  {
   "cell_type": "code",
   "execution_count": 1,
   "id": "ab35aeeb-5451-4095-9d28-4c0d8ae6ee1a",
   "metadata": {},
   "outputs": [],
   "source": [
    "from params import *\n",
    "from geometry import *\n",
    "from mass_dependencies import weigh\n",
    "\n",
    "def log_mass():\n",
    "    file = open(\"mass_dependencies.py\", \"r\")\n",
    "    mass_list_started = False\n",
    "    for line in file.readlines():\n",
    "        if line[:12] == \"def weigh():\":\n",
    "            mass_list_started = True\n",
    "            continue\n",
    "        if mass_list_started:\n",
    "            if line.isspace():\n",
    "                continue\n",
    "            line = line[4:-1]\n",
    "            if line[0] == \"#\":\n",
    "                print()\n",
    "                print(line[1:])\n",
    "            elif line[0] == \"M\" and line.split() != [\"M\", \"=\", \"0\"]:\n",
    "                expression = \" \".join(line.split()[2:]) \n",
    "                print(expression + \" = \", end=\"\" )\n",
    "                exec(\"print(\" + expression + \")\")\n",
    "\n",
    "    print(\"=\"*20)\n",
    "    print(f\"M = {weigh()}\")\n",
    "    file.close()\n",
    "\n"
   ]
  },
  {
   "cell_type": "code",
   "execution_count": 4,
   "id": "dc678996-b46b-46d8-b758-b938cf5aa209",
   "metadata": {},
   "outputs": [],
   "source": [
    "indicate_missing_param_vals = 0\n",
    "show_keys_in_logs = 0\n",
    "#weigh(\"PARAMS.csv\", \"GEOM.csv\", indicate_missing_param_vals, show_keys_in_logs)"
   ]
  },
  {
   "cell_type": "code",
   "execution_count": 3,
   "id": "2dedfa98",
   "metadata": {},
   "outputs": [],
   "source": [
    "XFoil_path = \"/home/crucian/Desktop/aerokittes/Yura_s/OptFALT/\"\n",
    "work_path = \"/home/crucian/Desktop/aerokittes/Yura_s/OptFALT/\"\n",
    "#XFoil_command_CL(16, 7, 0.15, 0.8, 1.5e-5, 0, 9, 1000, XFoil_path, work_path, \"SD7037\")"
   ]
  },
  {
   "cell_type": "code",
   "execution_count": 4,
   "id": "812f2fd3-5659-401b-a19a-9b4c58c7911e",
   "metadata": {
    "tags": []
   },
   "outputs": [],
   "source": [
    "'''\n",
    "Модуль расчёта геометрических характеристик потребляет на вход: \n",
    "dataframe PERFORMANCE с потребными эксплуатационными характеристиками\n",
    "dataframe PARAMS с параметрами электронных компонент, конструкционных материалов, аккумуляторов и т.д.\n",
    "пути до файлов селиговского формата с профилем крыла wing_foil и с профилем оперения aft_foil.\n",
    "TOM - значение взлётной массы в начальном приближении.\n",
    "\n",
    "PERFORMANCE включает параметры take_off_speed, cruise_speed, flight_time, payload\n",
    "\n",
    "PARAMS включает параметры m_FPV, m_powerplant, m_flight_control, m_fus, m_servo1, m_servo2,\n",
    "line_dens_wire, line_dens_tube1, line_dens_tube2, line_dens_tube3,\n",
    "area_dens_LWPLA\n",
    "energy_dens_bat\n",
    "number_servo1, number_servo2\n",
    "l_stab\n",
    "'''\n",
    "\n",
    "# Все единицы в СИ\n",
    "def inner_iteration():\n",
    "    performance_file_name = \"PERFORMANCE.csv\"#input(\"имя файла performances: \")\n",
    "    params_file_name = \"PARAMS.csv\" #input(\"имя файла params: \")\n",
    "    settings_file_name = \"SETTINGS.csv\" #input(\"имя файла settings: \") \n",
    "    tom = 2 #input(\"нулевое приближение влётной массы: \")\n",
    "    max_iter = 10 #input(\"максимальное число итераций: \")\n",
    "    \n",
    "    df = pd.read_csv(settings_file_name, header=None)\n",
    "    tom_eps = float(dict(zip(df[0], df[1]))[\"tom_eps\"])\n",
    "    \n",
    "    sculptor = Sculptor(performance_file_name, params_file_name, settings_file_name, tom)\n",
    "    i = 1\n",
    "    ask_about_no_value = True\n",
    "    while True:\n",
    "        sculptor.calculate_geometry()\n",
    "        sculptor.write_info()\n",
    "        pf, gf = sculptor.get_data_to_weigh()\n",
    "\n",
    "        print(f\"итерация {i}\")\n",
    "        new_tom = weigh(pf, gf, ask_about_no_value)\n",
    "        ask_about_no_value = False\n",
    "        if abs(tom - new_tom) > tom_eps:\n",
    "            tom = new_tom\n",
    "            sculptor.update_m(new_tom)\n",
    "        else:\n",
    "            print(f\"сошлось на итерации: {i}\")\n",
    "            print(\"информация сохранена в файл с геометрией\")\n",
    "            return new_tom\n",
    "        \n",
    "        if i == max_iter:\n",
    "            print(f\"прошло {i} итераций, но расчёт всё ещё не завершён.\")\n",
    "            flag = 2\n",
    "            while flag not in ['0', '1']:\n",
    "                flag = input(f\"введите 1, чтобы произвести ещё {max_iter} операций, иначе 0: \")\n",
    "            if flag:\n",
    "                i = 0\n",
    "            else:\n",
    "                print(\"последняя итерация геометрии сохранена\")\n",
    "                break\n",
    "            \n",
    "        i+=1\n",
    "    "
   ]
  }
 ],
 "metadata": {
  "kernelspec": {
   "display_name": "Python 3 (ipykernel)",
   "language": "python",
   "name": "python3"
  },
  "language_info": {
   "codemirror_mode": {
    "name": "ipython",
    "version": 3
   },
   "file_extension": ".py",
   "mimetype": "text/x-python",
   "name": "python",
   "nbconvert_exporter": "python",
   "pygments_lexer": "ipython3",
   "version": "3.8.10"
  }
 },
 "nbformat": 4,
 "nbformat_minor": 5
}
