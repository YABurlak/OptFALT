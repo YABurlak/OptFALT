{
 "cells": [
  {
   "cell_type": "code",
   "execution_count": 1,
   "id": "1437ecb5-2b37-4c1f-916a-5fe28edda8da",
   "metadata": {},
   "outputs": [],
   "source": [
    "import os\n",
    "import numpy as np\n",
    "import math\n",
    "import pandas as pd\n",
    "import matplotlib.pyplot as plt\n",
    "from aerolib import *\n",
    "%config IPCompleter.greedy=True"
   ]
  },
  {
   "cell_type": "code",
   "execution_count": 42,
   "id": "94c1e45c-c5cf-40f1-a8f5-6ae444c49281",
   "metadata": {},
   "outputs": [],
   "source": [
    "df = pd.read_csv(\"SETTINGS.txt\", sep = ' ')\n",
    "settings1 = dict(zip(df['NAME'], df['VALUE']))"
   ]
  },
  {
   "cell_type": "code",
   "execution_count": 43,
   "id": "e3736dcd-c0e4-4504-91e1-19104feaee45",
   "metadata": {},
   "outputs": [],
   "source": [
    "df = pd.read_csv(\"geom.txt\", sep = ' ')\n",
    "geom1 = dict(zip(df['NAME'], df['VALUE']))"
   ]
  },
  {
   "cell_type": "code",
   "execution_count": 81,
   "id": "937fbed5-36d3-4145-bcfb-6296b40e2838",
   "metadata": {},
   "outputs": [],
   "source": [
    "def XFoil_command_CL(settings, geom, tom, V):\n",
    "    command_file=open(settings['work_dir'] + 'commands.in','w')\n",
    "    command_file.write('load ' + settings['work_dir'] + settings['foil1_name'] + '.dat'+'\\n'\\\n",
    "    + settings['foil1_name'] + '\\n\\\n",
    "    panel\\n\\\n",
    "    oper\\n\\\n",
    "    visc ' + str(Re(V, ba(geom))) + '\\n\\\n",
    "    M ' + str(settings['M']) + '\\n\\\n",
    "    type 1\\n\\\n",
    "    vpar\\n\\\n",
    "    n ' + str(settings['ncr']) + '\\n\\\n",
    "    \\n\\\n",
    "    iter\\n' + str(settings['it']) + '\\n\\\n",
    "    pacc\\n'\\\n",
    "    + settings['work_dir'] + 'polar.dat\\n\\\n",
    "    \\n\\\n",
    "    cl ' + str(CL_required(V, geom['wing_area'], tom)) +'\\n\\\n",
    "    \\n\\\n",
    "    \\n\\\n",
    "    quit\\n')\n",
    "    command_file.close()\n",
    "    return 0\n",
    "\n",
    "def XFoil_run(settings):\n",
    "    sep=os.path.sep\n",
    "    run_xfoil_command = settings['XFoil_path'] + 'xfoil < ' + settings['work_dir'] + \\\n",
    "    'commands.in'\n",
    "    os.system(run_xfoil_command)\n",
    "    return 0\n",
    "\n",
    "def XFoil_read(settings):\n",
    "    aero_data_file = open(settings['work_dir'] + 'polar.dat', 'r')\n",
    "    last_line = aero_data_file.readlines()[-1].split()\n",
    "    aero_data_file.close()\n",
    "    os.system('del ' + settings['work_dir'] + 'polar.dat')\n",
    "    alpha, cl, cd = last_line[0], last_line[1], last_line[2]\n",
    "    return [alpha, cl, cd]"
   ]
  },
  {
   "cell_type": "code",
   "execution_count": 84,
   "id": "d55e00eb-4f3e-45bc-9cf7-5678be1af708",
   "metadata": {},
   "outputs": [],
   "source": [
    "def K_V_solver(geom, settings, v, AR, tom):\n",
    "    polar = np.array([])\n",
    "    XFoil_command_CL(settings, geom, tom, v)\n",
    "    XFoil_run(settings)\n",
    "    polar = np.append(polar, [[XFoil_read(settings)]])\n",
    "    polar = polar.reshape(polar.size // 3, 3)\n",
    "    POLAR = pd.DataFrame(polar, columns = ['alpha', 'CL', 'CD'])\n",
    "    POLAR.insert(0, \"V\", v)\n",
    "    POLAR.insert(4, \"CDi\", CDi(POLAR.CL, AR))\n",
    "    POLAR.insert(5, \"K\", POLAR.CL / (POLAR.CD + POLAR.CDi))\n",
    "    return polar"
   ]
  },
  {
   "cell_type": "code",
   "execution_count": 85,
   "id": "3d73a869-9dcd-4cd3-9e28-b46ad69051a7",
   "metadata": {
    "scrolled": true
   },
   "outputs": [
    {
     "data": {
      "text/plain": [
       "['-2.780', '0.0715', '0.00750']"
      ]
     },
     "execution_count": 85,
     "metadata": {},
     "output_type": "execute_result"
    }
   ],
   "source": [
    "XFoil_command_CL(settings1, geom1, 1., 15.)\n",
    "XFoil_run(settings1)\n",
    "XFoil_read(settings1)"
   ]
  },
  {
   "cell_type": "code",
   "execution_count": 88,
   "id": "381bbfff-e0c7-4c7f-8bc6-8c21bac3bcae",
   "metadata": {},
   "outputs": [
    {
     "data": {
      "text/plain": [
       "array([['-2.910', '0.0572', '0.00760']], dtype='<U32')"
      ]
     },
     "execution_count": 88,
     "metadata": {},
     "output_type": "execute_result"
    }
   ],
   "source": [
    "p = K_V_solver(geom1, settings1, 15., 6., 0.8)\n",
    "p"
   ]
  },
  {
   "cell_type": "code",
   "execution_count": 70,
   "id": "b30019c8-1eab-4eed-8597-f7504d30651e",
   "metadata": {},
   "outputs": [
    {
     "data": {
      "text/plain": [
       "'-2.780'"
      ]
     },
     "execution_count": 70,
     "metadata": {},
     "output_type": "execute_result"
    }
   ],
   "source": [
    "aero_data_file = open(settings1['work_dir'] + 'polar.dat', 'r')\n",
    "lines = aero_data_file.readlines()\n",
    "last_line = lines[-1].split()\n",
    "aero_data_file.close()\n",
    "last_line[0]"
   ]
  },
  {
   "cell_type": "code",
   "execution_count": null,
   "id": "fba70ebe-0c3b-4f9c-806a-4edd3b098567",
   "metadata": {},
   "outputs": [],
   "source": []
  }
 ],
 "metadata": {
  "kernelspec": {
   "display_name": "Python 3 (ipykernel)",
   "language": "python",
   "name": "python3"
  },
  "language_info": {
   "codemirror_mode": {
    "name": "ipython",
    "version": 3
   },
   "file_extension": ".py",
   "mimetype": "text/x-python",
   "name": "python",
   "nbconvert_exporter": "python",
   "pygments_lexer": "ipython3",
   "version": "3.8.10"
  }
 },
 "nbformat": 4,
 "nbformat_minor": 5
}
