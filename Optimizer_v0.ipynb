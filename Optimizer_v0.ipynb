{
 "cells": [
  {
   "cell_type": "code",
   "execution_count": 1,
   "id": "36313947-eebf-477e-b2b6-6d0c7d0b83c5",
   "metadata": {},
   "outputs": [],
   "source": [
    "from aerolib import *\n",
    "from xfoillib import *\n",
    "import pandas as pd\n",
    "import numpy as np"
   ]
  },
  {
   "cell_type": "code",
   "execution_count": 2,
   "id": "b5d2407d-94a1-4262-b4d3-0c38e39c70eb",
   "metadata": {},
   "outputs": [],
   "source": [
    "def isNaN(num):\n",
    "    return num != num"
   ]
  },
  {
   "cell_type": "code",
   "execution_count": 3,
   "id": "9ae45f23-6125-4afb-b053-a735ba85aaba",
   "metadata": {
    "tags": []
   },
   "outputs": [],
   "source": [
    "class InsufficientInputData(Exception):\n",
    "    def __init__(self, text):\n",
    "        self.txt = text"
   ]
  },
  {
   "cell_type": "code",
   "execution_count": 4,
   "id": "40e02419-69b8-42a3-9078-65895a3d2b84",
   "metadata": {
    "tags": []
   },
   "outputs": [],
   "source": [
    "class Foil():\n",
    "    def __init__(self, name):\n",
    "        pass\n",
    "    def get_geometry(self):\n",
    "        pass\n",
    "    def get_filename(self):\n",
    "        pass\n",
    "    "
   ]
  },
  {
   "cell_type": "code",
   "execution_count": 5,
   "id": "ee148725-c5e9-443b-963b-f8c8aa45e00e",
   "metadata": {},
   "outputs": [
    {
     "name": "stdout",
     "output_type": "stream",
     "text": [
      "False\n"
     ]
    }
   ],
   "source": [
    "print(\"aass\" == \"\\^aa\")"
   ]
  },
  {
   "cell_type": "code",
   "execution_count": 6,
   "id": "76409a66-b03a-4e4b-85d5-c325cbf43295",
   "metadata": {
    "tags": []
   },
   "outputs": [],
   "source": [
    "class Sculptor():\n",
    "    def __init__(self, performance_file_name, params_file_name, settings_file_name, m):\n",
    "        self.params_file_name = params_file_name\n",
    "        self.settings_file_name = settings_file_name\n",
    "        df = pd.read_csv(performance_file_name, header=None)[1:]\n",
    "        self.performance = dict(zip(df[0], [float(x) for x in df[1]]))\n",
    "        self.preprocess_performance()\n",
    "\n",
    "        df = pd.read_csv(settings_file_name, header=None)[1:]\n",
    "        self.settings = dict(zip(df[0], [x for x in df[1]]))\n",
    "        self.preprocess_settings()\n",
    "\n",
    "        df=pd.read_csv(params_file_name, index_col=False)\n",
    "        self.params = dict(filter(lambda x: x[0][0]!=\"#\", dict(zip(df[\"NAME\"], [float(x) for x in df[\"VALUE\"]])).items()))\n",
    "        self.preprocess_params()\n",
    "\n",
    "        self.geom = {}\n",
    "        self.aero = {\"cruise\":np.nan}\n",
    "        self.tom = m\n",
    "\n",
    "    def preprocess_params(self):\n",
    "        critical_params = ['CL_take_off', 'eta_prop', 'A_aft', \n",
    "                           'B_keel', 'l_stab']\n",
    "        for name in critical_params:\n",
    "            if isNaN(self.params.get(name, np.nan)):\n",
    "                raise InsufficientInputData(f'obligatory parametr {name} not found')\n",
    "\n",
    "    def preprocess_performance(self):\n",
    "        critical_performance = ['cruise_speed', 'take_off_speed', 'flight_time']\n",
    "        for name in critical_performance:\n",
    "            if isNaN(self.performance.get(name, np.nan)):\n",
    "                raise InsufficientInputData(f'obligatory parametr {name} not found')\n",
    "    \n",
    "    def preprocess_settings(self):\n",
    "        if isNaN(self.settings.get('g', np.nan)):\n",
    "            self.settings['g'] = 9.81\n",
    "            \n",
    "        if isNaN(self.settings.get('density', np.nan)):\n",
    "            self.settings['density'] = 1.22\n",
    "\n",
    "        if isNaN(self.settings.get('wire_scale_coef', np.nan)):\n",
    "            self.performance['wire_scale_coef'] = 1.3\n",
    "        \n",
    "        critical_settings = ['dyn_viscosity', 'density', 'g', 'Re', 'M', \n",
    "                             'xfoil_max_it', 'ncr', 'alpha_min', 'alpha_max', 'alpha_step', \n",
    "                             'ar_min', 'ar_max', 'ar_delta', 'osvald_coef', \n",
    "                             'wire_scale_coef', 'XFoil_path', 'foil1_name', 'work_dir']\n",
    "        for name in critical_settings:\n",
    "            if isNaN(self.settings.get(name, np.nan)):\n",
    "                raise InsufficientInputData(f'obligatory parametr {name} not found')\n",
    "\n",
    "    def calculate_geometry(self):        \n",
    "        self.geom[\"wing_area\"] = wing_area(self.tom, float(self.settings[\"g\"]),\n",
    "                                           float(self.settings[\"density\"]), \n",
    "                                           float(self.performance[\"take_off_speed\"]), \n",
    "                                           float(self.params[\"CL_take_off\"]))\n",
    "        self.CL_cr = CL_cruise(self.tom, self.performance[\"cruise_speed\"],\n",
    "                               float(self.geom[\"wing_area\"]), float(self.settings[\"g\"]), \n",
    "                               float(self.settings[\"density\"]))\n",
    "        ar_step_number = int(abs(float(self.settings[\"ar_max\"]) - float(self.settings[\"ar_min\"])) // float(self.settings[\"ar_delta\"]))\n",
    "        \n",
    "        ar_range = np.linspace(float(self.settings[\"ar_min\"]), float(self.settings[\"ar_max\"]), ar_step_number)\n",
    "        \n",
    "        self.geom[\"AR\"] = AR_selector(ar_range, self.geom, \n",
    "                                      self.settings, self.performance, self.tom)\n",
    "        self.aero[\"cruise\"] = K_V_solver(self.geom, self.settings, \n",
    "                                         self.performance[\"cruise_speed\"], \n",
    "                                         self.geom[\"AR\"], self.tom)\n",
    "        self.geom[\"ba\"] = ba(self.geom[\"AR\"], self.geom[\"wing_area\"])\n",
    "        self.geom[\"wingspan\"] = wingspan(self.geom[\"AR\"], self.geom[\"wing_area\"])\n",
    "        self.geom[\"aft_area\"] = aft_area(float(self.params[\"A_aft\"]), \n",
    "                                         self.geom[\"wing_area\"], self.geom[\"ba\"], \n",
    "                                         float(self.params[\"l_stab\"]))\n",
    "        self.geom[\"keel_area\"] = keel_area(float(self.params[\"B_keel\"]), \n",
    "                                           self.geom[\"wing_area\"], self.geom[\"wingspan\"], \n",
    "                                           float(self.params[\"l_stab\"]))\n",
    "        self.geom[\"V_dihedral\"] = gamma(self.geom[\"keel_area\"], self.geom[\"aft_area\"])\n",
    "        self.geom[\"Vtail_area\"] = stab_area(self.geom[\"aft_area\"], self.geom[\"V_dihedral\"])\n",
    "        self.geom[\"Pcruise\"] = P_cruise(self.tom, self.aero[\"cruise\"].K, \n",
    "                                        float(self.params[\"eta_prop\"]), float(self.settings[\"g\"]))\n",
    "        self.geom[\"wirelength\"] = wire_length(self.geom[\"wingspan\"], float(self.params[\"l_stab\"]), \n",
    "                                              float(self.settings[\"wire_scale_coef\"]))\n",
    "        return 0\n",
    "        \n",
    "    def update_m(self, new_m):\n",
    "        self.tom = new_m\n",
    "    \n",
    "    def write_geometry(self):\n",
    "        with open(\"geometry.csv\", 'w') as f:\n",
    "            for key in self.geom.keys():\n",
    "                f.write(\"%s, %s\\n\" % (key, self.geom[key]))\n",
    "\n",
    "    def get_data_to_weigh(self):\n",
    "        return [self.params_file_name, self.settings_file_name]"
   ]
  },
  {
   "cell_type": "code",
   "execution_count": 39,
   "id": "56061eb7-ad38-440e-a725-ed9f02dd5a4e",
   "metadata": {},
   "outputs": [],
   "source": [
    "'''  \n",
    "Ожидаемый формат params-csv-файла\n",
    "NAME  INDEX  VALUE CONJUGATE\n",
    "0   m1    1      1            NaN\n",
    "1   n1    1     10            NaN\n",
    "2   m2    2      2            NaN\n",
    "3   n2    2    100            NaN\n",
    "4   m3    NaN      3            NaN\n",
    "5    m    NaN   1000             cy\n",
    "\n",
    "Ожидаемый формат geomerty-csv-файла\n",
    "NAME      VALUE\n",
    "wing_area 1\n",
    "ba        1\n",
    "wingspan  1\n",
    "AR        1\n",
    "'''\n",
    "\n",
    "#m (масса ЛА) -- есть сумма\n",
    "#слагаемые бывают трёх типов:\n",
    "#1) произведение величин из params с одинаковым индексом\n",
    "#2) произведение двух величин -- одна из params, одна из geometry (её имя - CONJUGATE)\n",
    "#3) величина из params\n",
    "def weigh(params_file_name, geometry_file_name):\n",
    "    geom_df = pd.read_csv(geometry_file_name, header=None).loc[1:] #удаление заголовка из DF\n",
    "    geom = dict(zip(geom_df[0], geom_df[1])) #создание словаря {Cy: <val>, ...}\n",
    "\n",
    "    #создание таблицы с колонками вида \n",
    "    #[<colomn_num>, <NAME>, <INDEX>, <VALUE>, <CONJUGATE>]\n",
    "    params = pd.read_csv(params_file_name, index_col=False) \n",
    "    params = pd.DataFrame(filter(lambda x: x[\"NAME\"][0] != \"#\", [params.iloc[i] for i in range(len(params.axes[0]))])).T\n",
    "    \n",
    "    #создание словаря \n",
    "    #{<значение колонки index из params>: <список значений всех параметров с этим индексом>}\n",
    "    multiply_dict = dict()\n",
    "    multiply_dict_names = dict()\n",
    "    m = 0\n",
    "    \n",
    "    for var in params: #итерация по колонкам; в var попадает номер колонки (colomn_num)\n",
    "        params[var][\"VALUE\"] = float(params[var][\"VALUE\"])\n",
    "        if isNaN(params[var][\"VALUE\"]):\n",
    "            ans = input(f\"\\nУ ПАРАМЕТРА {params[var]['NAME']} нет значения - пропустить (y/n)?\")\n",
    "            if ans == \"y\":\n",
    "                continue\n",
    "            raise InsufficientInputData(f\"no value for variable '{params[var]['NAME']}'\")\n",
    "\n",
    "        if not isNaN(params[var][\"INDEX\"]): #если тип (1)\n",
    "            #создать в multiply_dict ключ с найденым индексом,\n",
    "            #со значением пустого списка, если такого ключа ещё нет\n",
    "            multiply_dict[params[var][\"INDEX\"]] = multiply_dict.get(params[var][\"INDEX\"], [])\n",
    "            multiply_dict_names[params[var][\"INDEX\"]] = multiply_dict_names.get(params[var][\"INDEX\"], [])\n",
    "            #добавить значение этого параметра\n",
    "            #в список индекса найденного индекса\n",
    "            multiply_dict[params[var][\"INDEX\"]].append(params[var][\"VALUE\"])\n",
    "            multiply_dict_names[params[var][\"INDEX\"]].append(params[var][\"NAME\"])\n",
    "        \n",
    "        elif not isNaN(params[var][\"CONJUGATE\"]): #если тип (2)\n",
    "            geom[params[var][\"CONJUGATE\"]] = float(geom[params[var][\"CONJUGATE\"]])\n",
    "            if not isNaN(geom.get(params[var][\"CONJUGATE\"], np.nan)):  \n",
    "                m += geom[params[var][\"CONJUGATE\"]] * params[var][\"VALUE\"]\n",
    "            else:\n",
    "                raise InsufficientInputData(f\"for variable '{params[var]['NAME']}', '{params[var]['CONJUGATE']}' \"+\\\n",
    "                                            f\"is specified as conjugate, but it is no '{params[var]['CONJUGATE']}'\"+\\\n",
    "                                            f\" in the geom-file\")\n",
    "            print(f\"{params[var]['NAME']}\", \":\",  m)\n",
    "            \n",
    "\n",
    "    #вычисление слагаемых типа (1) -- перемножение значения параметров с одинаковыми индексами\n",
    "    for item in multiply_dict.items():\n",
    "        key, vals = item\n",
    "        m += math.prod(vals)\n",
    "        print(f\"{multiply_dict_names[key]}\", \":\",  m)\n",
    "    \n",
    "        \n",
    "    return m"
   ]
  },
  {
   "cell_type": "code",
   "execution_count": 40,
   "id": "a6272f79-e6ba-4a50-88e0-2945bd115aa9",
   "metadata": {},
   "outputs": [
    {
     "name": "stdin",
     "output_type": "stream",
     "text": [
      "\n",
      "У ПАРАМЕТРА capacity_LiIon18650 нет значения - пропустить (y/n)? y\n"
     ]
    },
    {
     "name": "stdout",
     "output_type": "stream",
     "text": [
      "specific_wing : 0.10500000000000001\n",
      "specific_aft : 0.126\n"
     ]
    },
    {
     "name": "stdin",
     "output_type": "stream",
     "text": [
      "\n",
      "У ПАРАМЕТРА mPito нет значения - пропустить (y/n)? y\n"
     ]
    },
    {
     "name": "stdout",
     "output_type": "stream",
     "text": [
      "['l_stab', 'tube6X5'] : 0.1338\n",
      "['mVTX', 'nVTX'] : 0.1578\n",
      "['mCrossfire', 'nCrossfire'] : 0.1628\n",
      "['mRunc_s4', 'nRunc_s4'] : 0.1728\n",
      "['mReg', 'nReg'] : 0.2228\n",
      "['mAT2308', 'nAT2308'] : 0.2808\n",
      "['mLiIon18650', 'nLiIon18650'] : 0.4218\n",
      "['mLiIon21700', 'nLiIon21700'] : 0.4218\n",
      "['mfus', 'nfus'] : 0.5718\n",
      "['mMG90', 'nMG90'] : 0.5718\n",
      "['mES9051', 'nES9051'] : 0.5958\n",
      "['mPixhawk', 'nPixhawk'] : 0.6438\n",
      "['nPito'] : 0.6438\n"
     ]
    },
    {
     "data": {
      "text/plain": [
       "0.6438"
      ]
     },
     "execution_count": 40,
     "metadata": {},
     "output_type": "execute_result"
    }
   ],
   "source": [
    "weigh(\"PARAMS.csv\", \"GEOM.csv\")"
   ]
  },
  {
   "cell_type": "code",
   "execution_count": 9,
   "id": "812f2fd3-5659-401b-a19a-9b4c58c7911e",
   "metadata": {
    "tags": []
   },
   "outputs": [],
   "source": [
    "# Модуль расчёта геометрических характеристик потребляет на вход: \n",
    "# dataframe PERFORMANCE с потребными эксплуатационными характеристиками\n",
    "# dataframe PARAMS с параметрами электронных компонент, конструкционных материалов, аккумуляторов и т.д.\n",
    "# пути до файлов селиговского формата с профилем крыла wing_foil и с профилем оперения aft_foil.\n",
    "# TOM - значение взлётной массы в начальном приближении.\n",
    "\n",
    "# PERFORMANCE включает параметры take_off_speed, cruise_speed, flight_time, payload\n",
    "\n",
    "# PARAMS включает параметры m_FPV, m_powerplant, m_flight_control, m_fus, m_servo1, m_servo2,\n",
    "# line_dens_wire, line_dens_tube1, line_dens_tube2, line_dens_tube3,\n",
    "# area_dens_LWPLA\n",
    "# energy_dens_bat\n",
    "# number_servo1, number_servo2\n",
    "# l_stab\n",
    "\n",
    "# Все единицы в СИ\n",
    "def inner_iteration():\n",
    "    performance_file_name = \"PERFORMANCE.csv\"#input(\"имя файла performances: \")\n",
    "    params_file_name = \"PARAMS.csv\" #input(\"имя файла params: \")\n",
    "    settings_file_name = \"SETTINGS.csv\" #input(\"имя файла settings: \") \n",
    "    tom = 2 #input(\"нулевое приближение влётной массы: \")\n",
    "    max_iter = 10 #input(\"максимальное число итераций: \")\n",
    "    freq_geom_saving = 1 #input(\"частота сохранения промежуточных геометрии: \")\n",
    "    \n",
    "    df = pd.read_csv(settings_file_name, header=None)\n",
    "    tom_eps = float(dict(zip(df[0], df[1]))[\"tom_eps\"])\n",
    "    \n",
    "    sculptor = Sculptor(performance_file_name, params_file_name, settings_file_name, tom)\n",
    "    i = 0\n",
    "    while True:\n",
    "        sculptor.calculate_geometry()\n",
    "        pf, gf = sculptor.get_data_to_weigh()\n",
    "        print(pf, gf)\n",
    "        new_tom = weigh(pf, gf)\n",
    "        if abs(tom - new_tom) > tom_eps:\n",
    "            tom = new_tom\n",
    "            sculptor.update_m(new_tom)\n",
    "        else:\n",
    "            print(f\"сошлось на итерации: {i}\")\n",
    "            sculptor.write_geometry()\n",
    "            print(\"информация сохранена в файл с геометрией\")\n",
    "            break\n",
    "        \n",
    "        if i == max_iter:\n",
    "            print(f\"прошло {i} итераций, но расчёт всё ещё не завершён.\")\n",
    "            flag = 2\n",
    "            while flag not in ['0', '1']:\n",
    "                flag = input(f\"введите 1, чтобы произвести ещё {max_iter} операций, иначе 0: \")\n",
    "            if flag:\n",
    "                i = 0\n",
    "            else:\n",
    "                sculptor.write_geometry()\n",
    "                print(\"последняя итерация геометрии сохранена\")\n",
    "                break\n",
    "                \n",
    "        if i%freq_geom_saving == 0:\n",
    "            sculptor.write_geometry()\n",
    "            \n",
    "        i+=1\n",
    "    "
   ]
  },
  {
   "cell_type": "code",
   "execution_count": 54,
   "id": "95c60f5c-e353-43b9-80fa-20c59c3275e1",
   "metadata": {
    "tags": []
   },
   "outputs": [
    {
     "name": "stdout",
     "output_type": "stream",
     "text": [
      "368450\n",
      "    AR     V  alpha      CL       CDi          K       CD\n",
      "0  4.0  20.0 -0.925  0.2632  0.005803  21.152779  0.00664\n",
      "368450\n",
      "PARAMS.csv SETTINGS.csv\n",
      "483920\n",
      "    AR     V  alpha      CL       CDi          K       CD\n",
      "0  4.0  20.0 -0.986  0.2633  0.005807  22.187168  0.00606\n",
      "483920\n",
      "PARAMS.csv SETTINGS.csv\n",
      "сошлось на итерации: 1\n",
      "информация сохранена в файл с геометрией\n"
     ]
    }
   ],
   "source": [
    "inner_iteration()"
   ]
  },
  {
   "cell_type": "code",
   "execution_count": null,
   "id": "750f0d08-f7e0-4788-ae12-c91906215ab2",
   "metadata": {},
   "outputs": [],
   "source": []
  },
  {
   "cell_type": "code",
   "execution_count": null,
   "id": "95fb4c0e-a3a0-4e7d-84c9-abe92a7fa805",
   "metadata": {},
   "outputs": [],
   "source": []
  }
 ],
 "metadata": {
  "kernelspec": {
   "display_name": "Python 3 (ipykernel)",
   "language": "python",
   "name": "python3"
  },
  "language_info": {
   "codemirror_mode": {
    "name": "ipython",
    "version": 3
   },
   "file_extension": ".py",
   "mimetype": "text/x-python",
   "name": "python",
   "nbconvert_exporter": "python",
   "pygments_lexer": "ipython3",
   "version": "3.10.11"
  }
 },
 "nbformat": 4,
 "nbformat_minor": 5
}
