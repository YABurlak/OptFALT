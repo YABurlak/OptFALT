{
 "cells": [
  {
   "cell_type": "code",
   "execution_count": 1,
   "id": "3da0e05d-5d1c-491d-95bf-0ab00099d883",
   "metadata": {},
   "outputs": [
    {
     "name": "stdout",
     "output_type": "stream",
     "text": [
      "hello!\n"
     ]
    }
   ],
   "source": [
    "import importlib\n",
    "\n",
    "aerolib = importlib.import_module(\"aerolib\")\n",
    "aerolib.Re(1, 2)\n",
    "\n",
    "f = open(\"aerolib.py\", \"a\")\n",
    "f.write(\"\\ndef foo():\\n\\tprint('hello!')\\n\")\n",
    "f.close()\n",
    "\n",
    "importlib.reload(aerolib)\n",
    "aerolib.Re(1, 2)\n",
    "aerolib.foo()"
   ]
  },
  {
   "cell_type": "code",
   "execution_count": 3,
   "id": "d0549e0e-14f1-44d6-a211-e20074d70d62",
   "metadata": {},
   "outputs": [
    {
     "data": {
      "text/plain": [
       "23"
      ]
     },
     "execution_count": 3,
     "metadata": {},
     "output_type": "execute_result"
    }
   ],
   "source": [
    "variable_name = \"r\"\n",
    "exec(f\"val = {23}\")\n",
    "val"
   ]
  },
  {
   "cell_type": "code",
   "execution_count": 1,
   "id": "0e3bac1e-8f07-494a-a414-28b3746fcc54",
   "metadata": {},
   "outputs": [
    {
     "name": "stdout",
     "output_type": "stream",
     "text": [
      "10\n"
     ]
    }
   ],
   "source": [
    "import test\n",
    "test.foo()"
   ]
  },
  {
   "cell_type": "code",
   "execution_count": 5,
   "id": "7e09c1f6-c582-4a43-b962-4699723493c0",
   "metadata": {},
   "outputs": [
    {
     "name": "stdout",
     "output_type": "stream",
     "text": [
      "4\n"
     ]
    }
   ],
   "source": [
    "    exec(\"r = 4\")\n",
    "    print(r)"
   ]
  },
  {
   "cell_type": "code",
   "execution_count": 6,
   "id": "799a2ca4-4d7b-4f28-9a2d-758d382fdd9d",
   "metadata": {},
   "outputs": [
    {
     "data": {
      "text/plain": [
       "20"
      ]
     },
     "execution_count": 6,
     "metadata": {},
     "output_type": "execute_result"
    }
   ],
   "source": [
    "locals()[\"r\"] = 20\n",
    "r"
   ]
  },
  {
   "cell_type": "code",
   "execution_count": null,
   "id": "759184d0-7861-4420-b8e6-1d30a321cb0f",
   "metadata": {},
   "outputs": [],
   "source": []
  }
 ],
 "metadata": {
  "kernelspec": {
   "display_name": "Python 3 (ipykernel)",
   "language": "python",
   "name": "python3"
  },
  "language_info": {
   "codemirror_mode": {
    "name": "ipython",
    "version": 3
   },
   "file_extension": ".py",
   "mimetype": "text/x-python",
   "name": "python",
   "nbconvert_exporter": "python",
   "pygments_lexer": "ipython3",
   "version": "3.8.10"
  }
 },
 "nbformat": 4,
 "nbformat_minor": 5
}
