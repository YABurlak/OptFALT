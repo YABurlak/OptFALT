{
 "cells": [
  {
   "cell_type": "code",
   "execution_count": 2,
   "id": "1c2f7aa2-7de0-4cea-b92c-7a045c60de64",
   "metadata": {},
   "outputs": [],
   "source": [
    "# ноутбук для отладки функций xfoillib"
   ]
  },
  {
   "cell_type": "code",
   "execution_count": 1,
   "id": "7c6199ab-16cc-478d-b29e-fe4000ef09ea",
   "metadata": {},
   "outputs": [],
   "source": [
    "import os\n",
    "import numpy as np\n",
    "import pandas as pd\n",
    "import matplotlib.pyplot as plt\n",
    "from aerolib import *\n",
    "from xfoillib import *\n",
    "%config IPCompleter.greedy=True"
   ]
  },
  {
   "cell_type": "code",
   "execution_count": 3,
   "id": "fba70ebe-0c3b-4f9c-806a-4edd3b098567",
   "metadata": {},
   "outputs": [
    {
     "data": {
      "text/html": [
       "<div>\n",
       "<style scoped>\n",
       "    .dataframe tbody tr th:only-of-type {\n",
       "        vertical-align: middle;\n",
       "    }\n",
       "\n",
       "    .dataframe tbody tr th {\n",
       "        vertical-align: top;\n",
       "    }\n",
       "\n",
       "    .dataframe thead th {\n",
       "        text-align: right;\n",
       "    }\n",
       "</style>\n",
       "<table border=\"1\" class=\"dataframe\">\n",
       "  <thead>\n",
       "    <tr style=\"text-align: right;\">\n",
       "      <th></th>\n",
       "      <th>AR</th>\n",
       "      <th>V</th>\n",
       "      <th>alpha</th>\n",
       "      <th>CL</th>\n",
       "      <th>CD</th>\n",
       "      <th>CDi</th>\n",
       "      <th>K</th>\n",
       "    </tr>\n",
       "  </thead>\n",
       "  <tbody>\n",
       "    <tr>\n",
       "      <th>0</th>\n",
       "      <td>51.0</td>\n",
       "      <td>14.0</td>\n",
       "      <td>1.121</td>\n",
       "      <td>0.3419</td>\n",
       "      <td>0.02355</td>\n",
       "      <td>0.000811</td>\n",
       "      <td>14.034927</td>\n",
       "    </tr>\n",
       "  </tbody>\n",
       "</table>\n",
       "</div>"
      ],
      "text/plain": [
       "     AR     V  alpha      CL       CD       CDi          K\n",
       "0  51.0  14.0  1.121  0.3419  0.02355  0.000811  14.034927"
      ]
     },
     "execution_count": 3,
     "metadata": {},
     "output_type": "execute_result"
    }
   ],
   "source": [
    "K_V_solver(0.24, 'SD7037', 14., 51., 1., 1000, 0.0, 1.5e-5, 9, 0.9, 'D:\\YURA\\Aerokitties\\OptFALT\\\\', 'D:\\Soft\\XFOIL6.99\\\\')"
   ]
  },
  {
   "cell_type": "code",
   "execution_count": 5,
   "id": "15dfd75f-8b6c-44f5-9ade-743f4b9815b3",
   "metadata": {},
   "outputs": [],
   "source": [
    "a = AR_selector(0.24, 'SD7037', 24, np.array((5., 6., 7., 9., 11., 19.)), 1., 1000, 0.0, 1.5e-5, 9, 0.9, 'D:\\YURA\\Aerokitties\\OptFALT\\\\', 'D:\\Soft\\XFOIL6.99\\\\')"
   ]
  },
  {
   "cell_type": "code",
   "execution_count": 7,
   "id": "d14fc1e6-e7e1-49bf-91d2-187a5d78d7dc",
   "metadata": {},
   "outputs": [
    {
     "data": {
      "text/plain": [
       "numpy.float64"
      ]
     },
     "execution_count": 7,
     "metadata": {},
     "output_type": "execute_result"
    }
   ],
   "source": [
    "type(a)"
   ]
  },
  {
   "cell_type": "code",
   "execution_count": 4,
   "id": "bf3b14c4-bc37-4a5a-8360-79e58eb9200c",
   "metadata": {},
   "outputs": [
    {
     "data": {
      "text/plain": [
       "0"
      ]
     },
     "execution_count": 4,
     "metadata": {},
     "output_type": "execute_result"
    }
   ],
   "source": [
    "XFoil_command_CL(10000., 0.3, 0.0, 10, 1000, 'D:\\Soft\\XFOIL6.99\\\\', 'D:\\YURA\\Aerokitties\\OptFALT\\\\', 'SD7037')"
   ]
  },
  {
   "cell_type": "code",
   "execution_count": 6,
   "id": "42c3e17a-cf41-4a62-96ba-31e9dfa3f28f",
   "metadata": {},
   "outputs": [
    {
     "data": {
      "text/plain": [
       "0"
      ]
     },
     "execution_count": 6,
     "metadata": {},
     "output_type": "execute_result"
    }
   ],
   "source": [
    "XFoil_run('D:\\YURA\\Aerokitties\\OptFALT\\\\', 'D:\\Soft\\XFOIL6.99\\\\')"
   ]
  },
  {
   "cell_type": "code",
   "execution_count": null,
   "id": "a21b8f57-4111-4e83-afe1-38eecd74cd3c",
   "metadata": {},
   "outputs": [],
   "source": []
  }
 ],
 "metadata": {
  "kernelspec": {
   "display_name": "Python 3 (ipykernel)",
   "language": "python",
   "name": "python3"
  },
  "language_info": {
   "codemirror_mode": {
    "name": "ipython",
    "version": 3
   },
   "file_extension": ".py",
   "mimetype": "text/x-python",
   "name": "python",
   "nbconvert_exporter": "python",
   "pygments_lexer": "ipython3",
   "version": "3.8.10"
  }
 },
 "nbformat": 4,
 "nbformat_minor": 5
}
